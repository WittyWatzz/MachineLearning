{
 "cells": [
  {
   "cell_type": "markdown",
   "metadata": {},
   "source": [
    "## ENSEMBLE\n",
    "* Load the MNIST data (introduced in Chapter 3), and split it into a training set, a validation set, and a test set (e.g., use 50,000 instances for training, 10,000 for validation, and 10,000 for testing). \n",
    "* Then train various classifiers, such as a Random Forest classifier, an Extra-Trees classifier, and an SVM classifier. \n",
    "* Next, try to combine them into an ensemble that outperforms each individual classifier on the validation set, using soft or hard voting. Once you have found one, try it on the test set. How much better does it perform compared to the individual classifiers?\n"
   ]
  },
  {
   "cell_type": "code",
   "execution_count": 1,
   "metadata": {},
   "outputs": [],
   "source": [
    "import numpy as np\n",
    "\n",
    "from sklearn.svm import SVC\n",
    "from sklearn.ensemble import RandomForestClassifier\n",
    "from sklearn.ensemble import ExtraTreesClassifier\n",
    "from sklearn.preprocessing import StandardScaler\n",
    "\n",
    "from sklearn.metrics import accuracy_score,precision_score,recall_score,f1_score, confusion_matrix\n",
    "\n",
    "from sklearn.datasets import fetch_openml \n"
   ]
  },
  {
   "cell_type": "code",
   "execution_count": 2,
   "metadata": {},
   "outputs": [
    {
     "name": "stdout",
     "output_type": "stream",
     "text": [
      "CPU times: user 13.9 s, sys: 300 ms, total: 14.2 s\n",
      "Wall time: 14.2 s\n"
     ]
    },
    {
     "data": {
      "text/plain": [
       "dict_keys(['data', 'target', 'frame', 'categories', 'feature_names', 'target_names', 'DESCR', 'details', 'url'])"
      ]
     },
     "execution_count": 2,
     "metadata": {},
     "output_type": "execute_result"
    }
   ],
   "source": [
    "%%time\n",
    "mnist = fetch_openml('mnist_784', version=1)\n",
    "mnist.keys()"
   ]
  },
  {
   "cell_type": "code",
   "execution_count": 3,
   "metadata": {},
   "outputs": [],
   "source": [
    "X = mnist[\"data\"]\n",
    "y = mnist[\"target\"]"
   ]
  },
  {
   "cell_type": "code",
   "execution_count": 4,
   "metadata": {},
   "outputs": [
    {
     "data": {
      "text/plain": [
       "array(['0', '1', '2', '3', '4', '5', '6', '7', '8', '9'], dtype=object)"
      ]
     },
     "execution_count": 4,
     "metadata": {},
     "output_type": "execute_result"
    }
   ],
   "source": [
    "np.unique(y)"
   ]
  },
  {
   "cell_type": "code",
   "execution_count": 5,
   "metadata": {},
   "outputs": [],
   "source": [
    "X_train, X_val, X_test, y_train, y_val, y_test = X[:50000], X[50000:60000], X[60000:], y[:50000],y[50000:60000], y[60000:]\n"
   ]
  },
  {
   "cell_type": "code",
   "execution_count": 6,
   "metadata": {},
   "outputs": [
    {
     "data": {
      "text/plain": [
       "((50000, 784), (10000, 784), (10000, 784), (50000,), (10000,), (10000,))"
      ]
     },
     "execution_count": 6,
     "metadata": {},
     "output_type": "execute_result"
    }
   ],
   "source": [
    "X_train.shape, X_val.shape, X_test.shape, y_train.shape, y_val.shape, y_test.shape"
   ]
  },
  {
   "cell_type": "markdown",
   "metadata": {},
   "source": [
    "#### Scaling "
   ]
  },
  {
   "cell_type": "code",
   "execution_count": 7,
   "metadata": {},
   "outputs": [],
   "source": [
    "#Scale data to unit variance. This doesn't deter the performance of Random Forest and Extra trees.\n",
    "\n",
    "# NB: If you scale the inputs, also scale that of the test set. Else it'll affect performance.\n",
    "sc = StandardScaler()\n",
    "X_train = sc.fit_transform(X_train)\n",
    "X_val = sc.transform(X_val)\n",
    "X_test = sc.transform(X_test)"
   ]
  },
  {
   "cell_type": "markdown",
   "metadata": {},
   "source": [
    "### SVM"
   ]
  },
  {
   "cell_type": "code",
   "execution_count": 8,
   "metadata": {},
   "outputs": [
    {
     "name": "stdout",
     "output_type": "stream",
     "text": [
      "CPU times: user 7min 59s, sys: 1.74 s, total: 8min 1s\n",
      "Wall time: 8min 1s\n"
     ]
    },
    {
     "data": {
      "text/plain": [
       "SVC(random_state=42)"
      ]
     },
     "execution_count": 8,
     "metadata": {},
     "output_type": "execute_result"
    }
   ],
   "source": [
    "%%time\n",
    "svm_clf = SVC(kernel=\"rbf\", random_state=42) #Random State for reproducibility of results \n",
    "svm_clf.fit(X_train, y_train)"
   ]
  },
  {
   "cell_type": "code",
   "execution_count": 9,
   "metadata": {},
   "outputs": [
    {
     "name": "stdout",
     "output_type": "stream",
     "text": [
      "The svm accuracy on the validation set is 96.87%\n",
      "CPU times: user 2min 12s, sys: 71.7 ms, total: 2min 12s\n",
      "Wall time: 2min 12s\n"
     ]
    }
   ],
   "source": [
    "%%time\n",
    "svm_acc = accuracy_score(y_val,svm_clf.predict(X_val))\n",
    "print(f\"The svm accuracy on the validation set is {np.round(svm_acc*100,2)}%\")"
   ]
  },
  {
   "cell_type": "markdown",
   "metadata": {},
   "source": [
    "#### Random Forest Classifier"
   ]
  },
  {
   "cell_type": "code",
   "execution_count": 10,
   "metadata": {},
   "outputs": [
    {
     "name": "stdout",
     "output_type": "stream",
     "text": [
      "CPU times: user 1min 6s, sys: 541 ms, total: 1min 7s\n",
      "Wall time: 4.76 s\n"
     ]
    },
    {
     "data": {
      "text/plain": [
       "RandomForestClassifier(n_jobs=-1)"
      ]
     },
     "execution_count": 10,
     "metadata": {},
     "output_type": "execute_result"
    }
   ],
   "source": [
    "%%time\n",
    "rnd_clf = RandomForestClassifier(n_jobs=-1) #n_jobs = -1 enables the rnd_clf to use all available CPU resources\n",
    "rnd_clf.fit(X_train, y_train)"
   ]
  },
  {
   "cell_type": "code",
   "execution_count": 11,
   "metadata": {},
   "outputs": [
    {
     "name": "stdout",
     "output_type": "stream",
     "text": [
      "The Random Forest accuracy on the validation set is 97.23%\n",
      "CPU times: user 634 ms, sys: 48.6 ms, total: 683 ms\n",
      "Wall time: 102 ms\n"
     ]
    }
   ],
   "source": [
    "%%time\n",
    "rnd_acc = accuracy_score(y_val,rnd_clf.predict(X_val))\n",
    "print(f\"The Random Forest accuracy on the validation set is {np.round(rnd_acc*100,2)}%\")"
   ]
  },
  {
   "cell_type": "markdown",
   "metadata": {},
   "source": [
    "#### Extra Trees Classifier"
   ]
  },
  {
   "cell_type": "code",
   "execution_count": 12,
   "metadata": {},
   "outputs": [
    {
     "name": "stdout",
     "output_type": "stream",
     "text": [
      "CPU times: user 1min 37s, sys: 1.32 s, total: 1min 38s\n",
      "Wall time: 6.73 s\n"
     ]
    },
    {
     "data": {
      "text/plain": [
       "ExtraTreesClassifier(n_jobs=-1)"
      ]
     },
     "execution_count": 12,
     "metadata": {},
     "output_type": "execute_result"
    }
   ],
   "source": [
    "%%time\n",
    "ext_clf = ExtraTreesClassifier(n_jobs=-1)\n",
    "ext_clf.fit(X_train, y_train)"
   ]
  },
  {
   "cell_type": "code",
   "execution_count": 13,
   "metadata": {},
   "outputs": [
    {
     "name": "stdout",
     "output_type": "stream",
     "text": [
      "The Extra tree accuracy on the validation set is 97.38%\n",
      "CPU times: user 841 ms, sys: 48.7 ms, total: 890 ms\n",
      "Wall time: 114 ms\n"
     ]
    }
   ],
   "source": [
    "%%time\n",
    "ext_acc = accuracy_score(y_val,ext_clf.predict(X_val))\n",
    "print(f\"The Extra tree accuracy on the validation set is {np.round(ext_acc*100,2)}%\")"
   ]
  },
  {
   "cell_type": "markdown",
   "metadata": {},
   "source": [
    "#### Ensemble with Hard voting"
   ]
  },
  {
   "cell_type": "code",
   "execution_count": 14,
   "metadata": {},
   "outputs": [
    {
     "name": "stdout",
     "output_type": "stream",
     "text": [
      "CPU times: user 8min 1s, sys: 4.15 s, total: 8min 6s\n",
      "Wall time: 8min 19s\n"
     ]
    },
    {
     "data": {
      "text/plain": [
       "VotingClassifier(estimators=[('ext', ExtraTreesClassifier(n_jobs=-1)),\n",
       "                             ('rf', RandomForestClassifier(n_jobs=-1)),\n",
       "                             ('svc', SVC(random_state=42))])"
      ]
     },
     "execution_count": 14,
     "metadata": {},
     "output_type": "execute_result"
    }
   ],
   "source": [
    "%%time\n",
    "from sklearn.ensemble import VotingClassifier\n",
    "\n",
    "rnd_clfV = RandomForestClassifier(n_jobs=-1) \n",
    "svm_clfV = SVC(kernel=\"rbf\", random_state=42)\n",
    "ext_clfV = ExtraTreesClassifier(n_jobs=-1)\n",
    "voting_clf = VotingClassifier(estimators=[('ext', ext_clfV), \n",
    "                                          ('rf', rnd_clfV), \n",
    "                                          ('svc', svm_clfV)],    \n",
    "                                          voting='hard') \n",
    "voting_clf.fit(X_train, y_train)"
   ]
  },
  {
   "cell_type": "code",
   "execution_count": 15,
   "metadata": {},
   "outputs": [
    {
     "name": "stdout",
     "output_type": "stream",
     "text": [
      "The ensemble using prediction probability gave a validation accuracy of 97.65%\n",
      "CPU times: user 2min 13s, sys: 216 ms, total: 2min 13s\n",
      "Wall time: 2min 12s\n"
     ]
    }
   ],
   "source": [
    "%%time\n",
    "voting_clf_acc = accuracy_score(y_val,voting_clf.predict(X_val))\n",
    "print(f\"The ensemble using prediction probability gave a validation accuracy of {np.round(voting_clf_acc*100,2)}%\")"
   ]
  },
  {
   "cell_type": "markdown",
   "metadata": {},
   "source": [
    "#### Ensemble with Soft voting"
   ]
  },
  {
   "cell_type": "code",
   "execution_count": 16,
   "metadata": {},
   "outputs": [
    {
     "name": "stdout",
     "output_type": "stream",
     "text": [
      "CPU times: user 41min 28s, sys: 6.41 s, total: 41min 34s\n",
      "Wall time: 44min\n"
     ]
    },
    {
     "data": {
      "text/plain": [
       "VotingClassifier(estimators=[('ext', ExtraTreesClassifier(n_jobs=-1)),\n",
       "                             ('rf', RandomForestClassifier(n_jobs=-1)),\n",
       "                             ('svc', SVC(probability=True, random_state=42))],\n",
       "                 voting='soft')"
      ]
     },
     "execution_count": 16,
     "metadata": {},
     "output_type": "execute_result"
    }
   ],
   "source": [
    "%%time\n",
    "from sklearn.ensemble import VotingClassifier\n",
    "\n",
    "rnd_clfVs = RandomForestClassifier(n_jobs=-1) \n",
    "svm_clfVs = SVC(kernel=\"rbf\", random_state=42, probability=True)\n",
    "ext_clfVs = ExtraTreesClassifier(n_jobs=-1)\n",
    "voting_clf2 = VotingClassifier(estimators=[('ext', ext_clfVs), \n",
    "                                          ('rf', rnd_clfVs), \n",
    "                                          ('svc', svm_clfVs)],    \n",
    "                                          voting='soft') \n",
    "voting_clf2.fit(X_train, y_train)"
   ]
  },
  {
   "cell_type": "code",
   "execution_count": 17,
   "metadata": {},
   "outputs": [
    {
     "name": "stdout",
     "output_type": "stream",
     "text": [
      "The ensemble using prediction probability gave a validation accuracy of 97.98%\n",
      "CPU times: user 2min 13s, sys: 996 ms, total: 2min 14s\n",
      "Wall time: 2min 12s\n"
     ]
    }
   ],
   "source": [
    "%%time\n",
    "voting_clf2_acc = accuracy_score(y_val,voting_clf2.predict(X_val))\n",
    "print(f\"The ensemble using prediction probability gave a validation accuracy of {np.round(voting_clf2_acc*100,2)}%\")"
   ]
  },
  {
   "cell_type": "markdown",
   "metadata": {},
   "source": [
    "##### How much better does it perform compared to the individual classifiers?\n"
   ]
  },
  {
   "cell_type": "code",
   "execution_count": 18,
   "metadata": {},
   "outputs": [
    {
     "name": "stdout",
     "output_type": "stream",
     "text": [
      "The difference between the best ensemble classifier and svm is 1.1099999999999999%\n",
      "The difference between the best ensemble classifier and random forest is 0.7499999999999951%\n",
      "The difference between the best ensemble classifier and extra trees is 0.6000000000000005%\n"
     ]
    }
   ],
   "source": [
    "print(f\"The difference between the best ensemble classifier and svm is {(voting_clf2_acc-svm_acc)*100}%\")\n",
    "print(f\"The difference between the best ensemble classifier and random forest is {(voting_clf2_acc-rnd_acc)*100}%\")\n",
    "print(f\"The difference between the best ensemble classifier and extra trees is {(voting_clf2_acc-ext_acc)*100}%\")"
   ]
  },
  {
   "cell_type": "markdown",
   "metadata": {},
   "source": [
    "### Evaluating on test set"
   ]
  },
  {
   "cell_type": "code",
   "execution_count": 19,
   "metadata": {},
   "outputs": [],
   "source": [
    "y_pred = voting_clf2.predict(X_test)\n",
    "\n",
    "acc_score = accuracy_score(y_test,y_pred)\n",
    "pre_score = precision_score(y_test,y_pred, average='macro')\n",
    "rec_score = recall_score(y_test,y_pred, average='macro')\n",
    "f1 = f1_score(y_test,y_pred, average='macro')\n",
    "cm = confusion_matrix(y_test,y_pred)\n",
    "\n"
   ]
  },
  {
   "cell_type": "code",
   "execution_count": 20,
   "metadata": {},
   "outputs": [
    {
     "name": "stdout",
     "output_type": "stream",
     "text": [
      "THE BEST CLASSIFIER EVALUTED ON THE TEST GAVE:\n",
      "An overall accuracy score is 97.34\n",
      "A precision score is 97.32\n",
      "A recall score is 97.32\n",
      "An f1-score is 97.32\n",
      "The confusion matrix is \n",
      " [[ 972    0    1    0    0    2    2    1    2    0]\n",
      " [   0 1127    2    1    0    1    3    0    1    0]\n",
      " [   4    1 1001    4    2    0    3    8    8    1]\n",
      " [   0    0    2  985    0    6    0    8    7    2]\n",
      " [   1    0    3    0  962    0    4    0    2   10]\n",
      " [   2    0    0    8    1  866    7    1    6    1]\n",
      " [   7    3    0    0    4    7  932    0    5    0]\n",
      " [   2    7   14    2    1    0    0  991    1   10]\n",
      " [   4    0    4    6    3    7    1    6  939    4]\n",
      " [   5    5    4    8   13    2    1    5    7  959]]\n"
     ]
    }
   ],
   "source": [
    "#DISPLAY RESULTS\n",
    "print('THE BEST CLASSIFIER EVALUTED ON THE TEST GAVE:')\n",
    "print(f'An overall accuracy score is {np.round(acc_score*100,2)}')\n",
    "print(f'A precision score is {np.round(pre_score*100,2)}')\n",
    "print(f'A recall score is {np.round(rec_score*100,2)}')\n",
    "print(f'An f1-score is {np.round(f1*100,2)}')\n",
    "print(f'The confusion matrix is \\n {cm}')"
   ]
  },
  {
   "cell_type": "code",
   "execution_count": null,
   "metadata": {},
   "outputs": [],
   "source": []
  }
 ],
 "metadata": {
  "kernelspec": {
   "display_name": "Python 3",
   "language": "python",
   "name": "python3"
  },
  "language_info": {
   "codemirror_mode": {
    "name": "ipython",
    "version": 3
   },
   "file_extension": ".py",
   "mimetype": "text/x-python",
   "name": "python",
   "nbconvert_exporter": "python",
   "pygments_lexer": "ipython3",
   "version": "3.8.5"
  }
 },
 "nbformat": 4,
 "nbformat_minor": 4
}
